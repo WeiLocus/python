{
 "cells": [
  {
   "cell_type": "markdown",
   "metadata": {},
   "source": [
    "## PTT NBA\n",
    "\n",
    "[https://www.ptt.cc/bbs/NBA/index.html](https://www.ptt.cc/bbs/NBA/index.html)\n",
    "\n"
   ]
  },
  {
   "cell_type": "code",
   "execution_count": 15,
   "metadata": {},
   "outputs": [
    {
     "name": "stdout",
     "output_type": "stream",
     "text": [
      "6/05 32:[花邊] DeRozan談暴龍進總決賽:若沒我打下基礎\n",
      "6/05 32:[情報] LaVar Ball:一旦兩人離婚,就回不去了\n",
      "6/05 11:Re: [討論] 1986季後賽Bird說過Jordan得20分就退休？\n",
      "6/05 28:[情報] 鵜鶘球團開始聽取Anthony Davis的報價\n",
      "6/05 23:[情報]Shams 各隊消息整理\n",
      "6/05 52:[情報] KD out for G3\n",
      "6/05 15:[情報] Hollins加入湖人教練團\n",
      "6/05 30:[新聞] 勇士傷情雪上加霜 柯爾：需要板凳球員\n"
     ]
    }
   ],
   "source": [
    "import requests\n",
    "from bs4 import BeautifulSoup\n",
    "import time\n",
    "\n",
    "today = time.strftime('%m/%d').lstrip('0')\n",
    "\n",
    "def pttNBA(url):\n",
    "    resp = requests.get(url)\n",
    "    if resp.status_code != 200:\n",
    "        print('URL發生錯誤：' + url)\n",
    "        return\n",
    "    \n",
    "    soup = BeautifulSoup(resp.text, 'html5lib')\n",
    "    paging = soup.find('div', 'btn-group btn-group-paging').find_all('a')[1]['href']\n",
    "    \n",
    "    articles = []\n",
    "    rents = soup.find_all('div', 'r-ent')\n",
    "    for rent in rents:\n",
    "        title = rent.find('div', 'title').text.strip()\n",
    "        count = rent.find('div', 'nrec').text.strip()\n",
    "        date = rent.find('div', 'meta').find('div', 'date').text.strip()\n",
    "        article = '%s %s:%s' % (date, count, title)\n",
    "        \n",
    "        try:\n",
    "            if today == date and int(count) > 10:\n",
    "                articles.append(article)\n",
    "        except:\n",
    "            if today == date and count == '爆':\n",
    "                articles.append(article)\n",
    "    \n",
    "    if len(articles) != 0:\n",
    "        for article in articles:\n",
    "            print(article)\n",
    "        pttNBA('https://www.ptt.cc' + paging)\n",
    "    else:\n",
    "        return\n",
    "    \n",
    "pttNBA('https://www.ptt.cc/bbs/NBA/index.html')\n"
   ]
  },
  {
   "cell_type": "markdown",
   "metadata": {},
   "source": [
    "* 1.要使用到時間所以多匯入一個time模組，使用time模組取得今天的時間字串，這個函式可以依據我們給的參數格式回傳一個時間字串，百分比m代表月份，百分比d則代表日，中間的斜線是分隔符號，但這個回傳值的月份前面會有0，但PTT板上的日期沒有0，所以在後面加上一個函式lstrip()，會幫我們將字串左邊的文字移除，輸入的參數則是要移除的文字內容lstrip(\"0\")"
   ]
  },
  {
   "cell_type": "code",
   "execution_count": 10,
   "metadata": {},
   "outputs": [
    {
     "data": {
      "text/plain": [
       "'8/03'"
      ]
     },
     "execution_count": 10,
     "metadata": {},
     "output_type": "execute_result"
    }
   ],
   "source": [
    "import requests\n",
    "from bs4 import BeautifulSoup\n",
    "\n",
    "import time\n",
    "today = time.strftime(\"%m/%d\").lstrip(\"0\")\n",
    "today"
   ]
  },
  {
   "cell_type": "markdown",
   "metadata": {},
   "source": [
    "* 宣告一個函式pttLM，他需要傳入一個url參數，用request連上PTT Lifeismoney版，取得回傳後的response\n",
    "* 實務中server是會停止運作的，或是更新改變url路徑，在程式開始之前先確認server是否正確的回應網頁內容，可以用response的status_code來判斷，如果發生錯誤就列印錯誤訊息，並且retrun跳出函式\n",
    "* 將response的文字內容傳給BeautifulSoup解析，開始取得網頁元素的第一步是取得上一頁的連結，將剛才觀察到的標籤和class名稱找到上方選擇頁面的元素，在這個頁面有四個選擇頁面連結，所以用find_all找出所有標籤a的元素，因為上頁的連結在第二個，所以直接使用中括弧取得索引值1的資料，後面再加上一個中括弧取得href超連結文字，這個做法可以讓我們取得元素中屬性的資料，但這串連結是相對位置，等一下要使用時還要再加上PTT的網域名稱\n",
    "* 接著宣告一個list變數articles，等一下符合條件的文章都會依序放在這個變數裡面\n",
    "* 觀察每一篇文章都是被標籤名稱div和class名稱r-ent所包起來的，可以用find_all找到所有的文章，然後用for迴圈一個一個取出，判斷他的日期和推文數是否符合我們設定的條件\n",
    "* 要取得每一列文章的標題、推文數和日期三個資訊，透過在chrome瀏覽器中找到的標籤和class名稱，可以依序取得它們的資料\n",
    "* 文章標題title：取得文字後方加上函式strip()，去掉空白字元\n",
    "* 推文數count：取得文字後方加上函式strip()，去掉空白字元\n",
    "* 日期date：因為它多包了一層標籤，會需要用到兩次函式find()\n",
    "* 都找好資料後將這些資訊整理成一個字串article\n",
    "* 判斷文章是不是今天發的還有推文數有沒有超過10，但是PTT推文數有時候會是中文字「爆」或是「X」，有數字或字串會出錯，用try-except包起來\n",
    "* 最後在下面判斷剛才articlest長度是否為0，不是0就把剛才找到的文章都列印出來，然後使用剛才找到的上頁連結呼叫同一個函式pttLM()繼續找前面的文章\n",
    "* 在下方呼叫函式，並且用pttLM版連結開始找資料"
   ]
  },
  {
   "cell_type": "code",
   "execution_count": 11,
   "metadata": {},
   "outputs": [
    {
     "name": "stdout",
     "output_type": "stream",
     "text": [
      "8/03 15:[情報] OPENPOINT 8/4 週四驚喜日 - 有便當\n",
      "8/03 14:[情報] dyson父親節優惠\n",
      "8/03 18:[情報] 7-11 8/3到8/16哈根達斯買10送10\n",
      "8/03 23:[情報] EVGA 23週年 眾多商品破盤價!\n",
      "8/03 11:[情報] KFC-冬蔭功坤咔香辣脆雞(辣)\n",
      "8/03 27:[情報] 全家會員獨享 8/3～8/7 限時優惠\n",
      "8/03 12:[情報] 7-11阿薩姆奶茶550ml 4入 40元 8/4~8/7\n",
      "8/03 21:[情報] 7-11 北中南四大宮廟隨取卡\n",
      "8/03 17:[情報] ACER SFX14 $25900→$23900\n",
      "8/03 18:Re: [新聞] 彰化蛋黃酥業者挺波洛西 訪台待幾小時就\n",
      "8/03 65:[新聞] 彰化蛋黃酥業者挺波洛西 訪台待幾小時就\n",
      "8/03 16:[情報] Hi-Life 萊爾富萊享優惠 08/03~08/07\n",
      "8/03 爆:[情報] 動畫瘋 2022 夏日特惠\n"
     ]
    }
   ],
   "source": [
    "def pttLM(url):\n",
    "    resp = requests.get(url)\n",
    "    if resp.status_code != 200:\n",
    "        print(\"URL發生錯誤：\" + url)\n",
    "        return\n",
    "    soup = BeautifulSoup(resp.text,\"html5lib\")\n",
    "    paging = soup.find(\"div\",\"btn-group btn-group-paging\").find_all(\"a\")[1][\"href\"]\n",
    "    \n",
    "    articles = []\n",
    "    rents = soup.find_all(\"div\",\"r-ent\")\n",
    "    for rent in rents:\n",
    "        title = rent.find(\"div\",\"title\").text.strip()\n",
    "        count = rent.find(\"div\",\"nrec\").text.strip()\n",
    "        date = rent.find(\"div\",\"meta\").find(\"div\",\"date\").text.strip()\n",
    "        article = \"%s %s:%s\" % (date,count,title)\n",
    "        \n",
    "        try:\n",
    "            if today == date and int(count) > 10:\n",
    "                articles.append(article)\n",
    "        except:\n",
    "            if today == date and count == \"爆\":\n",
    "                articles.append(article)\n",
    "            \n",
    "    if len(articles) != 0:\n",
    "        for article in articles:\n",
    "            print(article)\n",
    "        pttLM(\"https://www.ptt.cc/\" + paging)\n",
    "    else:\n",
    "        return\n",
    "    \n",
    "pttLM(\"https://www.ptt.cc/bbs/Lifeismoney/index.html\")"
   ]
  },
  {
   "cell_type": "code",
   "execution_count": null,
   "metadata": {},
   "outputs": [],
   "source": []
  }
 ],
 "metadata": {
  "kernelspec": {
   "display_name": "Python 3",
   "language": "python",
   "name": "python3"
  },
  "language_info": {
   "codemirror_mode": {
    "name": "ipython",
    "version": 3
   },
   "file_extension": ".py",
   "mimetype": "text/x-python",
   "name": "python",
   "nbconvert_exporter": "python",
   "pygments_lexer": "ipython3",
   "version": "3.7.4"
  }
 },
 "nbformat": 4,
 "nbformat_minor": 2
}
