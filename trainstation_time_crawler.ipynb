{
 "cells": [
  {
   "cell_type": "markdown",
   "metadata": {},
   "source": [
    "## 台鐵時刻表\n",
    "\n",
    "[https://tip.railway.gov.tw/tra-tip-web/tip](https://tip.railway.gov.tw/tra-tip-web/tip)\n",
    "* 查詢當天日期，手動輸入0600~1200時間"
   ]
  },
  {
   "cell_type": "code",
   "execution_count": 50,
   "metadata": {},
   "outputs": [
    {
     "name": "stdout",
     "output_type": "stream",
     "text": [
      "今天是：2022/08/06\n",
      "區間 3147:06:00,08:59\n",
      "自強(3000) 371:07:00,08:46\n",
      "區間 3157:07:04,10:09\n",
      "自強(3000) 377:08:03,09:52\n",
      "區間 3167:08:07,11:16\n",
      "莒光 1:08:25,10:23\n",
      "區間 3177:08:58,12:08\n",
      "自強 105:09:20,11:25\n",
      "普悠瑪 111:09:40,11:10\n",
      "區間 3187:09:55,13:02\n",
      "自強 113:10:42,12:42\n",
      "區間 3197:10:52,13:55\n",
      "自強 115:11:20,13:18\n",
      "區間 3207:11:49,14:50\n"
     ]
    }
   ],
   "source": [
    "import requests\n",
    "from bs4 import BeautifulSoup\n",
    "import time\n",
    "\n",
    "url= \"https://tip.railway.gov.tw/tra-tip-web/tip\"\n",
    "staDic ={}\n",
    "today = time.strftime(\"%Y/%m/%d\")\n",
    "sTime = \"06:00\"\n",
    "eTime = \"12:00\"\n",
    "\n",
    "print(\"今天是：\"+ today)\n",
    "def getTrip():\n",
    "    resp = requests.get(url)\n",
    "    if resp.status_code != 200:\n",
    "        print(\"url發生錯誤：\"+ url)\n",
    "        return\n",
    "    \n",
    "    soup = BeautifulSoup(resp.text,\"html5lib\")\n",
    "    stations = soup.find(id=\"cityHot\").ul.find_all(\"li\")\n",
    "    for station in stations:\n",
    "        stationName = station.button.text\n",
    "        stationId = station.button[\"title\"]\n",
    "        staDic[stationName] = stationId\n",
    "\n",
    "    csrf = soup.find(id = \"queryForm\").find(\"input\",{\"name\":\"_csrf\"})[\"value\"]\n",
    "    formData = {\n",
    "        \"trainTypeList\":\"ALL\",\n",
    "        \"transfer\":\"ONE\",\n",
    "        \"startOrEndTime\":\"true\",\n",
    "        \"startStation\":staDic[\"臺中\"],\n",
    "        \"endStation\":staDic[\"臺南\"],\n",
    "        \"rideDate\":today,\n",
    "        \"startTime\":sTime,\n",
    "        \"endTime\":eTime,\n",
    "        \"_csrf\":csrf\n",
    "    }\n",
    "              \n",
    "    queryUrl = soup.find(id=\"queryForm\")[\"action\"]\n",
    "    qResp = requests.post(\"https://tip.railway.gov.tw\"+queryUrl,data=formData)\n",
    "    qSoup = BeautifulSoup(qResp.text,\"html5lib\")\n",
    "    trs = qSoup.find_all(\"tr\",\"trip-column\")\n",
    "    for tr in trs:\n",
    "        td = tr.find_all(\"td\")\n",
    "        print(\"%s:%s,%s\" %(td[0].ul.li.a.text,td[1].text,td[2].text))\n",
    "\n",
    "getTrip()"
   ]
  },
  {
   "cell_type": "markdown",
   "metadata": {},
   "source": [
    "### 台鐵時刻表\n",
    "* 手動輸入日期、時間"
   ]
  },
  {
   "cell_type": "code",
   "execution_count": 49,
   "metadata": {},
   "outputs": [
    {
     "name": "stdout",
     "output_type": "stream",
     "text": [
      "查詢：2022/08/07-時間08:00~09:00\n",
      "自強(3000) 377:08:03,09:52\n",
      "區間 3167:08:07,11:16\n",
      "莒光 1:08:25,10:23\n",
      "區間 3177:08:58,12:08\n"
     ]
    }
   ],
   "source": [
    "import requests\n",
    "from bs4 import BeautifulSoup\n",
    "import time\n",
    "\n",
    "url= \"https://tip.railway.gov.tw/tra-tip-web/tip\"\n",
    "staDic ={}\n",
    "checktime = \"2022/08/07\"\n",
    "sTime = \"08:00\"\n",
    "eTime = \"09:00\"\n",
    "\n",
    "print(\"查詢：\"+ checktime +\"-時間\"+ sTime + \"~\" + eTime)\n",
    "def getTrip():\n",
    "    resp = requests.get(url)\n",
    "    if resp.status_code != 200:\n",
    "        print(\"url發生錯誤：\"+ url)\n",
    "        return\n",
    "    \n",
    "    soup = BeautifulSoup(resp.text,\"html5lib\")\n",
    "    stations = soup.find(id=\"cityHot\").ul.find_all(\"li\")\n",
    "    for station in stations:\n",
    "        stationName = station.button.text\n",
    "        stationId = station.button[\"title\"]\n",
    "        staDic[stationName] = stationId\n",
    "\n",
    "    csrf = soup.find(id = \"queryForm\").find(\"input\",{\"name\":\"_csrf\"})[\"value\"]\n",
    "    formData = {\n",
    "        \"trainTypeList\":\"ALL\",\n",
    "        \"transfer\":\"ONE\",\n",
    "        \"startOrEndTime\":\"true\",\n",
    "        \"startStation\":staDic[\"臺中\"],\n",
    "        \"endStation\":staDic[\"臺南\"],\n",
    "        \"rideDate\":checktime,\n",
    "        \"startTime\":sTime,\n",
    "        \"endTime\":eTime,\n",
    "        \"_csrf\":csrf\n",
    "    }\n",
    "              \n",
    "    queryUrl = soup.find(id=\"queryForm\")[\"action\"]\n",
    "    qResp = requests.post(\"https://tip.railway.gov.tw\"+queryUrl,data=formData)\n",
    "    qSoup = BeautifulSoup(qResp.text,\"html5lib\")\n",
    "    trs = qSoup.find_all(\"tr\",\"trip-column\")\n",
    "    for tr in trs:\n",
    "        td = tr.find_all(\"td\")\n",
    "        print(\"%s:%s,%s\" %(td[0].ul.li.a.text,td[1].text,td[2].text))\n",
    "\n",
    "getTrip()"
   ]
  }
 ],
 "metadata": {
  "kernelspec": {
   "display_name": "Python 3",
   "language": "python",
   "name": "python3"
  },
  "language_info": {
   "codemirror_mode": {
    "name": "ipython",
    "version": 3
   },
   "file_extension": ".py",
   "mimetype": "text/x-python",
   "name": "python",
   "nbconvert_exporter": "python",
   "pygments_lexer": "ipython3",
   "version": "3.7.4"
  }
 },
 "nbformat": 4,
 "nbformat_minor": 2
}
